{
  "nbformat": 4,
  "nbformat_minor": 0,
  "metadata": {
    "colab": {
      "provenance": [],
      "collapsed_sections": [
        "W-YIa5KLd3Rr",
        "GUAxLZmmu8Ok",
        "f67GqX3-_Lwg"
      ],
      "toc_visible": true,
      "authorship_tag": "ABX9TyMTreM0G9E4y/XPWhjUhoha",
      "include_colab_link": true
    },
    "kernelspec": {
      "name": "python3",
      "display_name": "Python 3"
    },
    "language_info": {
      "name": "python"
    }
  },
  "cells": [
    {
      "cell_type": "markdown",
      "metadata": {
        "id": "view-in-github",
        "colab_type": "text"
      },
      "source": [
        "<a href=\"https://colab.research.google.com/github/astrodevine/YB_Photometry/blob/master/YB_studentphot_feb24_draft.ipynb\" target=\"_parent\"><img src=\"https://colab.research.google.com/assets/colab-badge.svg\" alt=\"Open In Colab\"/></a>"
      ]
    },
    {
      "cell_type": "markdown",
      "source": [
        "# Version Notes and Instructions #"
      ],
      "metadata": {
        "id": "W-YIa5KLd3Rr"
      }
    },
    {
      "cell_type": "markdown",
      "source": [
        "\"YB_phot\n",
        "\n",
        "Katie Devine/Anupa Poudyal/Makenzie Stapley\n",
        "\n",
        "\"Opens images of YBs and prompts users to click around YB images at 8, 12, 24, and 70 um.\n",
        "Polygon mask is then applied, and background interpolation done.\n",
        "Residual (original-background) is used to calculate total flux density in Jy\n",
        "Output files are a table of the photometric results and images showing the mask, interpolation, and residual.\n",
        "Output file contains the pixels selected for mask/polygon for later use (if needed)\n",
        "\n",
        "To use, make sure you have your file system set up according to the file i/o section\n",
        "including the output folder for the images, change the settings and flags to whatever you\n",
        "would like them to be, enter the range of sources you want to analyze, and run from the\n",
        "command line.\n",
        "\n",
        "This code requires that the 8, 12, 24, and 70 um mosaics all have the same dimensions\n",
        "(i.e. that the 12, 24 and 70 um mosaics have been reprojected to match the 8 um pixel size)\n",
        "\n",
        "Conventions:\n",
        "Mips in red, Glimpse in green\n",
        "Longer dashes, longer wavelengths (8um gets dots, 24um gets dashes)\n",
        "fpa is flux per area\n",
        "\n",
        "Files and directory structure needed:\n",
        "    -all of the mosaic files listed below in path+/mosaics\n",
        "    -directory called path+/photom_images/ to store output images\n",
        "    -\"YBphotometry_results.csv\" will be created when program is run for the first time and appended each time program is run\n",
        "\""
      ],
      "metadata": {
        "id": "lNoYPP4p-71d"
      }
    },
    {
      "cell_type": "markdown",
      "source": [
        "'''\n",
        " 7/11/2023 by Katie Devine\n",
        "-Modified from summer 2021 updates by Makenzie Stapley to work in CoLab\n",
        "MS 2021 updates:\n",
        "-Includes 70 micron images\n",
        "-Skips images that are saturated and writes out ' ' for those coordinate values\n",
        "-Axis labels removed to make the 6 and 4-panel images pretty\n",
        "-Compactness class and calculations have been removed\n",
        "-If there are multiple YBs in the cropped image, the rg image has a blue circle with\n",
        "the MWP location and radius\n",
        "'''\n"
      ],
      "metadata": {
        "id": "fkiBrUrC_BMp"
      }
    },
    {
      "cell_type": "markdown",
      "source": [
        "''' Version Last updated February 2024 by Katie Devine -Modified to work in CoLab with interactivity. Loop functionality removed and cell-by-cell selection enabled for student use in classroom setting. Classes intialized in separate program to streamline user experience.'''"
      ],
      "metadata": {
        "id": "7zJY2swheDgj"
      }
    },
    {
      "cell_type": "markdown",
      "source": [
        "If problems occur with the graphing, particularly with min/max issues, Try upgrading matplotlib using !pip install --upgrade matplotlib."
      ],
      "metadata": {
        "id": "SRWrRwdE47RH"
      }
    },
    {
      "cell_type": "markdown",
      "source": [
        "# Set up interactive windows for CoLab\n",
        "\n",
        "---\n",
        "\n"
      ],
      "metadata": {
        "id": "GUAxLZmmu8Ok"
      }
    },
    {
      "cell_type": "code",
      "source": [
        "%matplotlib inline\n",
        "DISPLAY = True"
      ],
      "metadata": {
        "id": "lSQsLDcivBKi"
      },
      "execution_count": null,
      "outputs": []
    },
    {
      "cell_type": "code",
      "source": [
        "from google.colab import output\n",
        "output.enable_custom_widget_manager()"
      ],
      "metadata": {
        "id": "upJO2xG0P6Vm"
      },
      "execution_count": null,
      "outputs": []
    },
    {
      "cell_type": "markdown",
      "source": [
        "#Import packages, connect to your Google Drive, defon\n"
      ],
      "metadata": {
        "id": "f67GqX3-_Lwg"
      }
    },
    {
      "cell_type": "code",
      "source": [
        "!pip install ipympl\n",
        "!pip install plotly"
      ],
      "metadata": {
        "id": "RTvQPjLk7u8l"
      },
      "execution_count": null,
      "outputs": []
    },
    {
      "cell_type": "code",
      "source": [
        "#Import all the things:\n",
        "\n",
        "import plotly.graph_objects as go\n",
        "import plotly as px\n",
        "import numpy as np\n",
        "import matplotlib\n",
        "#matplotlib.use('TkAgg')\n",
        "import matplotlib.pyplot as plt\n",
        "plt.ion()\n",
        "#get_ipython().run_line_magic('matplotlib', 'inline')\n",
        "# some plots\n",
        "#get_ipython().run_line_magic('matplotlib', 'qt')\n",
        "# the interactive plot\n",
        "from matplotlib.patches import Circle\n",
        "from matplotlib.colors import LogNorm\n",
        "#import astropy.units as u\n",
        "from astropy.io import fits\n",
        "from astropy import wcs\n",
        "#from astropy.wcs import WCS\n",
        "from astropy.io import ascii\n",
        "#from astropy.coordinates import SkyCoord\n",
        "#from astropy.coordinates import ICRS, Galactic, FK4, FK5\n",
        "from astropy.visualization import make_lupton_rgb\n",
        "#from astropy.modeling import models, fitting\n",
        "from scipy import interpolate\n",
        "#import itertools\n",
        "import sys\n",
        "import math\n",
        "import csv\n",
        "#import pylab as py\n",
        "import copy\n",
        "import cv2\n",
        "import os\n",
        "import pandas as pd\n",
        "from astropy.nddata import Cutout2D\n",
        "\n",
        "# These lines supress warnings\n",
        "import warnings\n",
        "warnings.filterwarnings('ignore')\n",
        "\n",
        "#For beta testing \"Pick up where you left off?\" option\n",
        "import pickle\n",
        "\n",
        "#You will need to make sure the following packages have been installed first:\n",
        "\n",
        "#from tkinter import *\n",
        "#import tkinter\n",
        "#conda install -c anaconda tk\n",
        "\n",
        "#from photutils import centroid_com\n",
        "#https://photutils.readthedocs.io/en/stable/install.html\n",
        "#conda install photutils -c astropy\n",
        "\n",
        "from itertools import chain, repeat\n",
        "from ipywidgets import interact, interactive\n",
        "import ipywidgets as widgets\n",
        "#import threading\n",
        "#import mynormalize\n",
        "#import mycolorbar\n",
        "\n",
        "\n"
      ],
      "metadata": {
        "id": "nod9jVbT9qYz"
      },
      "execution_count": null,
      "outputs": []
    },
    {
      "cell_type": "code",
      "source": [
        "# Mounting Google Drive.\n",
        "from google.colab import drive\n",
        "drive.mount('/content/drive')"
      ],
      "metadata": {
        "id": "wrQhvQlgY_gQ"
      },
      "execution_count": null,
      "outputs": []
    },
    {
      "cell_type": "markdown",
      "source": [
        "# Define Paths and File Locations                            \n"
      ],
      "metadata": {
        "id": "8b4dOBgo_JUB"
      }
    },
    {
      "cell_type": "code",
      "source": [
        "# @title\n",
        "\n",
        "#EDIT THIS PATH FOR THE FILE LOCATION ON YOUR MACHINE\n",
        "# '.' means current directory\n",
        "path = '.'\n",
        "path1 = '/content/drive/MyDrive/YBmosaics/'\n",
        "outpath = '/content/drive/MyDrive/'\n",
        "image_name = os.path.join(path, 'GLM_03000+0000_mosaic_I4.fits')\n",
        "catalog_name = os.path.join(path1, 'USE_THIS_CATALOG_ybcat_MWP_with_ID.csv')\n",
        "#catalog_name = 'USE_THIS_CATALOG_ybcat_MWP_with_ID.csv'\n",
        "#out_name = os.path.join(path1, 'YBphotometry_results.csv')\n",
        "instID = 'Devine_testingFeb24' #Change to be your ID\n",
        "out_name = os.path.join(outpath, 'YBphotometry_results_' + instID + '.csv')\n",
        "libdir =  '/content/drive/My\\ Drive/Colab\\ Notebooks/'"
      ],
      "metadata": {
        "id": "YZG6vKKK-kxF",
        "cellView": "form"
      },
      "execution_count": null,
      "outputs": []
    },
    {
      "cell_type": "markdown",
      "source": [
        "\n",
        "# Define functions and classes                    #\n",
        "\n"
      ],
      "metadata": {
        "id": "y00PI5li-yYk"
      }
    },
    {
      "cell_type": "code",
      "source": [
        "# @title\n",
        "# Call the external package where classes are defined\n",
        "%run {libdir}PhotomStartUp.ipynb"
      ],
      "metadata": {
        "id": "BDLT5rcWZhPp",
        "cellView": "form"
      },
      "execution_count": null,
      "outputs": []
    },
    {
      "cell_type": "markdown",
      "source": [
        "######################################################\n",
        "# Photometry Program Begins Here                         #\n",
        "######################################################\n"
      ],
      "metadata": {
        "id": "F7f8lHUIA_WZ"
      }
    },
    {
      "cell_type": "markdown",
      "source": [
        "# These only need to be run once:"
      ],
      "metadata": {
        "id": "xw9ol6f6fZZF"
      }
    },
    {
      "cell_type": "code",
      "source": [
        "# @title\n",
        "\n",
        "#Open the catalog file to get YB names, l, b, radius\n",
        "data = ascii.read(catalog_name, delimiter=',')\n",
        "\n",
        "#Open the output file and write the column headers\n",
        "\n",
        "if os.path.exists(out_name):\n",
        "    append_write = 'a'  # append if already exists\n",
        "    output_file = open(out_name,\n",
        "                       append_write)  #####opens up files for creating csv file\n",
        "    headers = [\n",
        "        'YB', 'YB_long', 'YB_lat', 'vertices 8', 'vertices 12', 'vertices 24',\n",
        "        'vertices 70', '8umphotom', '8flag1', '8flag2', '8flag3', '8flag4',\n",
        "        '8flag5', '8flag6', '8flag7', '8flag8', '12umphotom', '12flag1', '12flag2', '12flag4',\n",
        "        '12flag6', '12flag7', '12flag8', '24umphotom', '24flag1', '24flag2', '24flag4', '24flag6',\n",
        "        '24flag7', '24flag8', '70umphotom', '70flag1', '70flag2', '70flag4', '70flag6', '70flag7',\n",
        "        '70flag8'\n",
        "    ]\n",
        "    writer = csv.DictWriter(output_file, fieldnames=headers)\n",
        "    output_file.close()\n",
        "\n",
        "else:\n",
        "    output_file = open(out_name,\n",
        "                       'w')  #####opens up files for creating csv file\n",
        "    writer = csv.DictWriter(\n",
        "        output_file,\n",
        "        fieldnames=[\n",
        "        'YB', 'YB_long', 'YB_lat', 'vertices 8', 'vertices 12', 'vertices 24',\n",
        "        'vertices 70', '8umphotom', '8flag1', '8flag2', '8flag3', '8flag4',\n",
        "        '8flag5', '8flag6', '8flag7', '8flag8', '12umphotom', '12flag1', '12flag2', '12flag4',\n",
        "        '12flag6', '12flag7', '12flag8', '24umphotom', '24flag1', '24flag2', '24flag4', '24flag6',\n",
        "        '24flag7', '24flag8', '70umphotom', '70flag1', '70flag2', '70flag4', '70flag6', '70flag7',\n",
        "        '70flag8'\n",
        "        ],\n",
        "        lineterminator='\\n')\n",
        "    writer.writeheader()\n",
        "    writer.writerow({\n",
        "        'YB': 'ID Number',\n",
        "        'YB_long': 'degree',\n",
        "        'YB_lat': 'degree',\n",
        "        'vertices 8': 'pixel coords',\n",
        "        'vertices 12': 'pixel coords',\n",
        "        'vertices 24': 'pixel coords',\n",
        "        'vertices 70': 'pixel coords',\n",
        "        '8umphotom': 'Jy',\n",
        "        '12umphotom': 'Jy',\n",
        "        '24umphotom': 'Jy',\n",
        "        '70umphotom': 'Jy',\n",
        "        '70flag1': 'Saturated',\n",
        "        '70flag2': 'Multiple sources within YB',\n",
        "        '70flag4': 'No obvious source at this wavelength',\n",
        "        '70flag6': 'Star/Diffraction Pattern',\n",
        "        '70flag7': 'Poor Confidence',\n",
        "        '70flag8': 'Other/Follow Up',\n",
        "        '24flag1': 'Saturated',\n",
        "        '24flag2': 'Multiple sources within YB',\n",
        "        '24flag4': 'No obvious source at this wavelength',\n",
        "        '24flag6': 'Star/Diffraction Pattern',\n",
        "        '24flag7': 'Poor Confidence',\n",
        "        '24flag8': 'Other/Follow Up',\n",
        "        '12flag1': 'Saturated',\n",
        "        '12flag2': 'Multiple sources within YB',\n",
        "        '12flag4': 'No obvious source at this wavelength',\n",
        "        '12flag6': 'Star/Diffraction Pattern',\n",
        "        '12flag7': 'Poor Confidence',\n",
        "        '12flag8': 'Other/Follow Up',\n",
        "        '8flag1': 'Saturated',\n",
        "        '8flag2': 'Multiple sources within YB',\n",
        "        '8flag3': 'Filament or Bubble Rim',\n",
        "        '8flag4': 'No obvious source at this wavelength',\n",
        "        '8flag5': 'IRDC Association',\n",
        "        '8flag6': 'Star/Diffraction Pattern',\n",
        "        '8flag7': 'Poor Confidence',\n",
        "        '8flag8': 'Other/Follow Up'\n",
        "    })\n",
        "\n",
        "    for k in range(0,6176): ## THIS IS THE FULL CATALOG RANGE\n",
        "        YB = data[k]['YB']\n",
        "        YB_long = data[k]['l']\n",
        "        YB_lat = data[k]['b']\n",
        "        #output_file = open(out_name,append_write) #####opens up file for writing data\n",
        "        #writer=csv.DictWriter(output_file,fieldnames=['YB','YB_long','YB_lat','8umphotom','12umphotom','24umphotom'])\n",
        "\n",
        "        writer.writerow({'YB': YB, 'YB_long': YB_long, 'YB_lat': YB_lat})\n",
        "\n",
        "    output_file.close()\n"
      ],
      "metadata": {
        "id": "rB9qZ7DuBADU",
        "cellView": "form"
      },
      "execution_count": null,
      "outputs": []
    },
    {
      "cell_type": "code",
      "source": [
        "# @title\n",
        "##          Unit Conversions Info         ##\n",
        "# 8 um:\n",
        "#GLIMPSE 8 um flux units are MJy/steradian\n",
        "#obtain the 8 um pixel scale from the image header\n",
        "#this gives the degree/pixel conversion factor used for overdrawing circle\n",
        "#and flux conversions (this is x direction only but they are equal in this case)\n",
        "#GWC edit 4/1/22: Set pixscale directly to 0.000333333\n",
        "#pixscale8 = abs(image.um8w.wcs.cd[0][0])\n",
        "pixscale8 = 0.000333333\n",
        "#pixscale8 = abs(image.um8w.wcs.cdelt1)\n",
        "#print(pixscale8)\n",
        "#8 um square degree to square pixel conversion-- x*y\n",
        "#GWC edit 4/1/22: Set sqdeg_tosqpix8 directly to pixscale8 * pixscale8\n",
        "#sqdeg_tosqpix8 = abs(image.um8w.wcs.cd[0][0]) * abs(\n",
        "#    image.um8w.wcs.cd[1][1])\n",
        "sqdeg_tosqpix8 = pixscale8 * pixscale8\n",
        "#8 um steradian to pixel conversion (used to convert MJy/Pixel)\n",
        "#     will be used to convert to MJy\n",
        "str_to_pix8 = sqdeg_tosqpix8 * 0.0003046118\n",
        "#WISE Units are Data Number per Pixel, Jy/DN is 1.8326*10^-6\n",
        "#See http://wise2.ipac.caltech.edu/docs/release/allsky/expsup/sec2_3f.html\n",
        "dn_to_jy12 = 1.83 * 10**-6"
      ],
      "metadata": {
        "cellView": "form",
        "id": "RvUp2JO_zFk2"
      },
      "execution_count": null,
      "outputs": []
    },
    {
      "cell_type": "markdown",
      "source": [
        "#**This is the iterative part to re-run for each photometric measurement!**"
      ],
      "metadata": {
        "id": "2EIKje7WyQzc"
      }
    },
    {
      "cell_type": "markdown",
      "source": [
        "Each of these cells needs to be run one at a time, to allow for user to interactively set the points for photometry and agree with masks before continuing."
      ],
      "metadata": {
        "id": "_VuERtPD00sT"
      }
    },
    {
      "cell_type": "code",
      "source": [
        "# @title\n",
        "\n",
        "######################################################\n",
        "# Set up the YB range and make selector buttons #\n",
        "######################################################\n",
        "\n",
        "#Set range of YBs to examine during this session. Will set up grid (N sources, hardcoded below, 4 wavelengths)\n",
        "print('Welcome! Enter the numerical ID of your starting YB (e.g. 1176) and then hit ENTER:')\n",
        "startpos = input(\n",
        "    \" \"\n",
        ")\n",
        "opt_count = 4 #change this if you want more/less source options\n",
        "YBfirst = int(startpos)\n",
        "YBlast = YBfirst+opt_count\n",
        "\n",
        "#this is where the widget grid should get made to select source and wavelength.  Everything below should get run after.\n",
        "options=[0]\n",
        "options[0]=str(YBfirst)\n",
        "for i in range(YBfirst+1, YBlast):\n",
        "  options.append(str(i))\n",
        "\n",
        "umselector = widgets.RadioButtons(options=['70 um', '24 um', '12 um', '8 um'], description = 'Wavelength', disabled=False)\n",
        "YBselector = widgets.RadioButtons(options=options, description='YB ID', disabled=False)\n",
        "display(YBselector, umselector)\n",
        "\n",
        "#Get all the information for the original button selection\n",
        "selectedYB=YBfirst\n",
        "umselect=3\n",
        "selectedum='70 um'\n",
        "\n",
        "#look up the YB in the catalog, get coordinates and make all the subimages.\n",
        "# Note the indexing from YBID - 1! Bug potential here!\n",
        "k = int(selectedYB)-1\n",
        "#get the YB's location and radius\n",
        "\n",
        "global YB, YB_long, YB_lat, YB_rad\n",
        "YB = data[k]['YB']\n",
        "YB_long = data[k]['l']\n",
        "YB_lat = data[k]['b']\n",
        "YB_rad = data[k]['r']\n",
        "\n",
        "#Use the location to determine the correct image files to use\n",
        "#GWC added YB_lat on 4/5/22.\n",
        "global image\n",
        "image = choose_image(YB_long, YB_lat)\n",
        "\n",
        "\n",
        "#convert YB l and b and radius to pixel coordinates\n",
        "global ybwcs, pixcoords, YB_long_pix, YB_lat_pix, YB_rad_pix\n",
        "ybwcs = np.array([[YB_long, YB_lat]], np.float_)\n",
        "pixcoords = image.um8w.wcs_world2pix(ybwcs, 1)\n",
        "YB_long_pix = pixcoords[0][0]\n",
        "YB_lat_pix = pixcoords[0][1]\n",
        "YB_rad_pix = YB_rad / pixscale8\n",
        "\n",
        "# This is for the added points to show the user what other YBs are in the images\n",
        "# Read in the l, b, and r values for all the YBs and convert them to pixels\n",
        "global YBloc\n",
        "\n",
        "YBloc = pd.read_csv(catalog_name, usecols = ['l', 'b', 'r'])\n",
        "# Convert l, b, and r from YBloc into pixels\n",
        "for i in range(0, len(YBloc)):\n",
        "    yblocwcs = np.array([[YBloc['l'][i], YBloc['b'][i]]], np.float_)\n",
        "    pixcoordsloc = image.um8w.wcs_world2pix(yblocwcs, 1)\n",
        "    YB_l = pixcoordsloc[0][0]\n",
        "    YBloc['l'][i] = YB_l\n",
        "    YB_b = pixcoordsloc[0][1]\n",
        "    YBloc['b'][i] = YB_b\n",
        "    YB_radloc = YBloc['r'][i]\n",
        "    YB_r = YB_radloc / pixscale8\n",
        "    YBloc['r'][i] = YB_r\n",
        "\n",
        "#define a window to zoom in on the YB\n",
        "global xw, xs, yw, ys, dxw, dyw, x1, y1, x2, y2\n",
        "\n",
        "xw = xs = int(YB_long_pix +\n",
        "              0.5)  # x coordinates of source and window center\n",
        "yw = ys = int(YB_lat_pix +\n",
        "              0.5)  # y coordinates of source and window center\n",
        "dxw = 100  # x width of window\n",
        "dyw = 100  # y width of window\n",
        "\n",
        "#find the pixel coordinates LLH and URH corner of zoomed window\n",
        "x1 = int(xw - 0.5 * dxw)\n",
        "y1 = int(yw - 0.5 * dyw)\n",
        "x2 = int(xw + 0.5 * dxw)\n",
        "y2 = int(yw + 0.5 * dyw)\n",
        "\n",
        "#use Cutout2D to make the zoomed windows\n",
        "position = (YB_long_pix + 0.5, YB_lat_pix + 0.5)\n",
        "size = (100, 100)\n",
        "\n",
        "cut8 = Cutout2D(data=image.um8data,\n",
        "                position=position,\n",
        "                size=size,\n",
        "                wcs=image.um8w)\n",
        "cut12 = Cutout2D(data=image.um12data,\n",
        "                  position=position,\n",
        "                  size=size,\n",
        "                  wcs=image.um12w)\n",
        "cut24 = Cutout2D(data=image.um24data,\n",
        "                  position=position,\n",
        "                  size=size,\n",
        "                  wcs=image.um24w)\n",
        "cut70 = Cutout2D(data=image.um70data,\n",
        "                  position=position,\n",
        "                  size=size,\n",
        "                  wcs=image.um70w)\n",
        "\n",
        "global images\n",
        "images=[image.um8, image.um12,image.um24,image.um70]\n",
        "\n",
        "global orig, orig8, orig12, orig24, orig70\n",
        "orig8 = cut8.data\n",
        "orig12 = cut12.data\n",
        "orig24 = cut24.data\n",
        "orig70 = cut70.data\n",
        "orig=[orig8, orig12, orig24, orig70]\n",
        "\n",
        "global wcsdata, wcs8, wcs12, wcs24, wcs70\n",
        "wcs8 = cut8.wcs\n",
        "wcs12 = cut12.wcs\n",
        "wcs24 = cut24.wcs\n",
        "wcs70 = cut70.wcs\n",
        "wcsdata=[wcs8, wcs12, wcs24, wcs70]\n",
        "\n",
        "#create empty residuals to fill up later\n",
        "global diff, diff8, diff12, diff24, diff70\n",
        "diff8 = orig8 * 0\n",
        "diff12 = orig12 * 0\n",
        "diff24 = orig24 * 0\n",
        "diff70 = orig70 * 0\n",
        "diff=[diff8, diff12, diff24, diff70]\n",
        "\n",
        "#create copies of cropped images called workmasks\n",
        "global workmask, workmask8, workmask12, workmask24, workmask70\n",
        "workmask8 = copy.deepcopy(orig8)\n",
        "workmask12 = copy.deepcopy(orig12)\n",
        "workmask24 = copy.deepcopy(orig24)\n",
        "workmask70 = copy.deepcopy(orig70)\n",
        "workmask=[workmask8, workmask12, workmask24, workmask70]\n",
        "print('Ready to analyze YB data for', selectedYB, 'at', selectedum)\n",
        "\n",
        "\n",
        "\n",
        "#when YB ID button is clicked, set selectedYB and run the code that loads images (won't run every time the wavelength changes)\n",
        "def ybselectionfunc(change):\n",
        "  #print(change['new'])\n",
        "  global selectedYB\n",
        "  selectedYB = change['new']\n",
        "  #look up the YB in the catalog, get coordinates and make all the subimages\n",
        "  #Pay attention to k offset from YBID by 1!\n",
        "  k = int(selectedYB)-1\n",
        "  #get the YB's location and radius\n",
        "\n",
        "\n",
        "  global YB, YB_long, YB_lat, YB_rad\n",
        "  YB = data[k]['YB']\n",
        "  YB_long = data[k]['l']\n",
        "  YB_lat = data[k]['b']\n",
        "  YB_rad = data[k]['r']\n",
        "\n",
        "  #Use the location to determine the correct image files to use\n",
        "  #GWC added YB_lat on 4/5/22.\n",
        "  global image\n",
        "  image = choose_image(YB_long, YB_lat)\n",
        "\n",
        "\n",
        "  #convert YB l and b and radius to pixel coordinates\n",
        "  global ybwcs, pixcoords, YB_long_pix, YB_lat_pix, YB_rad_pix\n",
        "  ybwcs = np.array([[YB_long, YB_lat]], np.float_)\n",
        "  pixcoords = image.um8w.wcs_world2pix(ybwcs, 1)\n",
        "  YB_long_pix = pixcoords[0][0]\n",
        "  YB_lat_pix = pixcoords[0][1]\n",
        "  YB_rad_pix = YB_rad / pixscale8\n",
        "\n",
        "  # This is for the added points to show the user what other YBs are in the images\n",
        "  # Read in the l, b, and r values for all the YBs and convert them to pixels\n",
        "  global YBloc\n",
        "\n",
        "  YBloc = pd.read_csv(catalog_name, usecols = ['l', 'b', 'r'])\n",
        "  # Convert l, b, and r from YBloc into pixels\n",
        "  for i in range(0, len(YBloc)):\n",
        "      yblocwcs = np.array([[YBloc['l'][i], YBloc['b'][i]]], np.float_)\n",
        "      pixcoordsloc = image.um8w.wcs_world2pix(yblocwcs, 1)\n",
        "      YB_l = pixcoordsloc[0][0]\n",
        "      YBloc['l'][i] = YB_l\n",
        "      YB_b = pixcoordsloc[0][1]\n",
        "      YBloc['b'][i] = YB_b\n",
        "      YB_radloc = YBloc['r'][i]\n",
        "      YB_r = YB_radloc / pixscale8\n",
        "      YBloc['r'][i] = YB_r\n",
        "\n",
        "  #define a window to zoom in on the YB\n",
        "  global xw, xs, yw, ys, dxw, dyw, x1, y1, x2, y2\n",
        "\n",
        "  xw = xs = int(YB_long_pix +\n",
        "                0.5)  # x coordinates of source and window center\n",
        "  yw = ys = int(YB_lat_pix +\n",
        "                0.5)  # y coordinates of source and window center\n",
        "  dxw = 100  # x width of window\n",
        "  dyw = 100  # y width of window\n",
        "\n",
        "  #find the pixel coordinates LLH and URH corner of zoomed window\n",
        "  x1 = int(xw - 0.5 * dxw)\n",
        "  y1 = int(yw - 0.5 * dyw)\n",
        "  x2 = int(xw + 0.5 * dxw)\n",
        "  y2 = int(yw + 0.5 * dyw)\n",
        "\n",
        "  #use Cutout2D to make the zoomed windows\n",
        "  position = (YB_long_pix + 0.5, YB_lat_pix + 0.5)\n",
        "  size = (100, 100)\n",
        "\n",
        "  cut8 = Cutout2D(data=image.um8data,\n",
        "                  position=position,\n",
        "                  size=size,\n",
        "                  wcs=image.um8w)\n",
        "  cut12 = Cutout2D(data=image.um12data,\n",
        "                    position=position,\n",
        "                    size=size,\n",
        "                    wcs=image.um12w)\n",
        "  cut24 = Cutout2D(data=image.um24data,\n",
        "                    position=position,\n",
        "                    size=size,\n",
        "                    wcs=image.um24w)\n",
        "  cut70 = Cutout2D(data=image.um70data,\n",
        "                    position=position,\n",
        "                    size=size,\n",
        "                    wcs=image.um70w)\n",
        "\n",
        "\n",
        "  global images\n",
        "  images=[image.um8, image.um12,image.um24,image.um70]\n",
        "\n",
        "  global orig, orig8, orig12, orig24, orig70\n",
        "  orig8 = cut8.data\n",
        "  orig12 = cut12.data\n",
        "  orig24 = cut24.data\n",
        "  orig70 = cut70.data\n",
        "  orig=[orig8, orig12, orig24, orig70]\n",
        "\n",
        "  global wcsdata, wcs8, wcs12, wcs24, wcs70\n",
        "  wcs8 = cut8.wcs\n",
        "  wcs12 = cut12.wcs\n",
        "  wcs24 = cut24.wcs\n",
        "  wcs70 = cut70.wcs\n",
        "  wcsdata=[wcs8, wcs12, wcs24, wcs70]\n",
        "\n",
        "  #create empty residuals to fill up later\n",
        "  global diff, diff8, diff12, diff24, diff70\n",
        "  diff8 = orig8 * 0\n",
        "  diff12 = orig12 * 0\n",
        "  diff24 = orig24 * 0\n",
        "  diff70 = orig70 * 0\n",
        "  diff=[diff8, diff12, diff24, diff70]\n",
        "\n",
        "  #create copies of cropped images called workmasks\n",
        "  global workmask, workmask8, workmask12, workmask24, workmask70\n",
        "  workmask8 = copy.deepcopy(orig8)\n",
        "  workmask12 = copy.deepcopy(orig12)\n",
        "  workmask24 = copy.deepcopy(orig24)\n",
        "  workmask70 = copy.deepcopy(orig70)\n",
        "  workmask=[workmask8, workmask12, workmask24, workmask70]\n",
        "  print('Ready to analyze YB data for', selectedYB, 'at', selectedum)\n",
        "\n",
        "#when YB ID button is clicked, set selectedYB and run the code that loads images (won't run every time the wavelength changes)\n",
        "def umselectionfunc(change):\n",
        "  global umselect, selectedum\n",
        "  print(change['new'])\n",
        "  selectedum = change['new']\n",
        "  #set the index\n",
        "  if selectedum == '8 um':\n",
        "    umselect = 0\n",
        "  elif selectedum == '12 um':\n",
        "    umselect = 1\n",
        "  elif selectedum == '24 um':\n",
        "    umselect = 2\n",
        "  elif selectedum == '70 um':\n",
        "    umselect = 3\n",
        "  print('Ready to analyze YB data for', selectedYB, 'at', selectedum)\n",
        "\n",
        "YBselector.observe(ybselectionfunc, 'value')\n",
        "umselector.observe(umselectionfunc, 'value')\n",
        "#when selectedum is changed, update the um for the following code\n",
        "\n",
        "#build the data table to track entry into CSV form (updates as data written out, resets whenever this cell is called)\n",
        "trackingdata=[]\n",
        "datarow=['-','-','-','-']\n",
        "n_data=len(options)\n",
        "for i in range(n_data):\n",
        "  trackingdata.append(datarow)\n",
        "\n",
        "dftrack = pd.DataFrame(trackingdata, columns=options, index=['8 um', '12 um', '24 um', '70 um'])\n",
        "\n"
      ],
      "metadata": {
        "id": "S61kAVaDBJkM",
        "cellView": "form"
      },
      "execution_count": null,
      "outputs": []
    },
    {
      "cell_type": "markdown",
      "source": [
        "------------------------------\n",
        "Everything below this line needs to be re-run for every wavelength for each YB. The interactive grid above will help you keep track of which YBs have been completed. In the grid, select the YB and wavelength you wish to interact with before running the cells below."
      ],
      "metadata": {
        "id": "dptHZZFinMeY"
      }
    },
    {
      "cell_type": "markdown",
      "source": [
        "Run the below cells to select the points around the YB for photometry."
      ],
      "metadata": {
        "id": "wc8Q0oEloKHY"
      }
    },
    {
      "cell_type": "code",
      "source": [
        "# @title\n",
        "# need to update all this to have generalization to the um value\n",
        "#return umselect index for everything\n",
        "\n",
        "origum=orig[umselect]\n",
        "\n",
        "if np.isnan(origum.min()) == False and np.isnan(origum.max()) == False:\n",
        "    #reset global list coords that gets created in get_coords\n",
        "    coords = []\n",
        "    #get the coordinates by interacting with image\n",
        "    get_coords_colab(workmask[umselect], wcsdata[umselect], selectedum, YB)\n",
        "else:\n",
        "    print('Image is saturated. Skip to final step to assign results to table')\n",
        "    coord = ' '\n",
        "    flag = [1, 0, 0, 0, 0, 0, 0, 0, 0, 0, 0]"
      ],
      "metadata": {
        "id": "UVBjUmgd0Er4",
        "cellView": "form"
      },
      "execution_count": null,
      "outputs": []
    },
    {
      "cell_type": "markdown",
      "source": [
        "Run the cell below to see the mask and background removal results for the points you selected. If you wish to redo your point selection, run the above cell again. If you are satisfied, you can continue on to the next steps."
      ],
      "metadata": {
        "id": "aY5s2il6oLP_"
      }
    },
    {
      "cell_type": "code",
      "source": [
        "# @title\n",
        "#do the masking and interpolation on 70um image\n",
        "#print('starting interp on coords', coordinates)\n",
        "coordinates = coords\n",
        "\n",
        "interp = do_interp(workmask[umselect], coordinates)\n",
        "diff = interp.resid\n",
        "#display the images\n",
        "make_figs(workmask[umselect], interp.blanked, interp.interp,\n",
        "          interp.resid, images[umselect], wcsdata[umselect], selectedum)\n",
        "\n",
        "#save the coordinates to write to csv later\n",
        "coord = str(coordinates)\n",
        "\n",
        "#Prompt user to accept the selected region or redo\n",
        "print('Please consult the residual image. If you wish to redo your selction, re-run the previous cell and select different points.')\n",
        "\n"
      ],
      "metadata": {
        "cellView": "form",
        "id": "rxq-6IrB0qW7"
      },
      "execution_count": null,
      "outputs": []
    },
    {
      "cell_type": "markdown",
      "source": [
        "Once you are satisfied with your mask selection, run the below cell to review the YB and assign any flags."
      ],
      "metadata": {
        "id": "0K9nvsCkW0sJ"
      }
    },
    {
      "cell_type": "code",
      "source": [
        "# @title\n",
        "#%run {libdir}PhotomStartUp.ipynb\n",
        "#determine the flags\n",
        "global f1, f2, f3, f4, f5, f6, f7, f8\n",
        "f1=0\n",
        "f2=0\n",
        "f3=0\n",
        "f4=0\n",
        "f5=0\n",
        "f6=0\n",
        "f7=0\n",
        "f8=0\n",
        "out.clear_output()\n",
        "make_flags(workmask[umselect], interp.resid, selectedum)"
      ],
      "metadata": {
        "id": "5Y9uYKkv3K3Y",
        "cellView": "form"
      },
      "execution_count": null,
      "outputs": []
    },
    {
      "cell_type": "markdown",
      "source": [
        "Run the below cell to assign the flags you just chose:"
      ],
      "metadata": {
        "id": "YaEWePRrWp1v"
      }
    },
    {
      "cell_type": "code",
      "source": [
        "# @title\n",
        "#assign flags\n",
        "flag = [f1, f2, f3, f4, f5, f6, f7, f8]\n",
        "#print(flag70)"
      ],
      "metadata": {
        "cellView": "form",
        "id": "f3SMwcr7BTs9"
      },
      "execution_count": null,
      "outputs": []
    },
    {
      "cell_type": "markdown",
      "source": [
        "Run the below cell to write the photometry results and flags out to your csv file. The displayed will help you keep track of your progress."
      ],
      "metadata": {
        "id": "8MTRxbw459wo"
      }
    },
    {
      "cell_type": "code",
      "source": [
        "# @title\n",
        "# Use residual images to perform photometry\n",
        "#call the get_flux class\n",
        "fluxval = get_flux_colab(diff, umselect)\n",
        "\n",
        "#determine with columns get the photometry, flags, and vertices information\n",
        "\n",
        "if umselect == 0:\n",
        "    vertices = 'vertices 8'\n",
        "    photom = '8umphotom'\n",
        "    flag1 = '8flag1'\n",
        "    flag2 = '8flag2'\n",
        "    flag3 = '8flag3'\n",
        "    flag4 = '8flag4'\n",
        "    flag5 = '8flag5'\n",
        "    flag6 = '8flag6'\n",
        "    flag7 = '8flag7'\n",
        "    flag8 = '8flag8'\n",
        "elif umselect == 1:\n",
        "    vertices = 'vertices 12'\n",
        "    photom = '12umphotom'\n",
        "    flag1 = '12flag1'\n",
        "    flag2 = '12flag2'\n",
        "    flag3 = '12flag3'\n",
        "    flag4 = '12flag4'\n",
        "    flag5 = '12flag5'\n",
        "    flag6 = '12flag6'\n",
        "    flag7 = '12flag7'\n",
        "    flag8 = '12flag8'\n",
        "elif umselect == 2:\n",
        "    vertices = 'vertices 24'\n",
        "    photom = '24umphotom'\n",
        "    flag1 = '24flag1'\n",
        "    flag2 = '24flag2'\n",
        "    flag3 = '24flag3'\n",
        "    flag4 = '24flag4'\n",
        "    flag5 = '24flag5'\n",
        "    flag6 = '24flag6'\n",
        "    flag7 = '24flag7'\n",
        "    flag8 = '24flag8'\n",
        "elif umselect == 3:\n",
        "    vertices = 'vertices 70'\n",
        "    photom = '70umphotom'\n",
        "    flag1 = '70flag1'\n",
        "    flag2 = '70flag2'\n",
        "    flag3 = '70flag3'\n",
        "    flag4 = '70flag4'\n",
        "    flag5 = '70flag5'\n",
        "    flag6 = '70flag6'\n",
        "    flag7 = '70flag7'\n",
        "    flag8 = '70flag8'\n",
        "# write out to table with flags\n",
        "df = pd.read_csv(out_name)\n",
        "\n",
        "kk = str(YB)\n",
        "\n",
        "df.loc[df[\"YB\"] == kk, photom] = round(fluxval.flux, 5)\n",
        "\n",
        "df.loc[df[\"YB\"] == kk, vertices] = coord\n",
        "\n",
        "df.loc[df[\"YB\"] == kk, flag1 ] = flag[0]\n",
        "df.loc[df[\"YB\"] == kk, flag2 ] = flag[1]\n",
        "df.loc[df[\"YB\"] == kk, flag3 ] = flag[2]\n",
        "df.loc[df[\"YB\"] == kk, flag4 ] = flag[3]\n",
        "df.loc[df[\"YB\"] == kk, flag5 ] = flag[4]\n",
        "df.loc[df[\"YB\"] == kk, flag6 ] = flag[5]\n",
        "df.loc[df[\"YB\"] == kk, flag7 ] = flag[6]\n",
        "df.loc[df[\"YB\"] == kk, flag8 ] = flag[7]\n",
        "\n",
        "\n",
        "df.to_csv(out_name, index=False)\n",
        "\n",
        "#table to track progress\n",
        "plt.close('all')\n",
        "figtrack, axtrack = plt.subplots()\n",
        "figtrack.patch.set_visible(False)\n",
        "figtrack.canvas.header_visible = False\n",
        "figtrack.canvas.footer_visible = False\n",
        "figtrack.canvas.toolbar_visible = False\n",
        "figtrack.canvas.resizable = False\n",
        "axtrack.axis('off')\n",
        "axtrack.axis('tight')\n",
        "\n",
        "#update data to reflect what was just written out\n",
        "dftrack.at[selectedum, kk]= 'X'\n",
        "axtrack.table(cellText=dftrack.values, colLabels=dftrack.columns, rowLabels=dftrack.index, loc='center')\n",
        "figtrack.tight_layout()\n",
        "plt.show()\n",
        "#print(dftrack)\n"
      ],
      "metadata": {
        "id": "Mco3cYyK7F-h",
        "cellView": "form"
      },
      "execution_count": null,
      "outputs": []
    },
    {
      "cell_type": "markdown",
      "source": [
        "Once the table updates, go back up to the cell under **\"This is the iterative part to re-run for each photometric measurement!\"** to choose your next YB and/or wavelength to analyze."
      ],
      "metadata": {
        "id": "1ZJn4XVN-hhc"
      }
    },
    {
      "cell_type": "markdown",
      "source": [
        "--------------------\n",
        "# **To do**:\n",
        "\n",
        "1. Add some sort of safety check to make sure that steps were done in order to ensure the proper data is actually being written to table-- right now you could just select the radio buttons and do steps out of order and write wrong data to wrong place.\n",
        "\n",
        "2. Improve instructions based on feedback\n",
        "\n",
        "3. Known plotting issues (see 1212 at 70 um) with full range not being plotted - don't know why\n",
        "\n",
        "4. Double check and make sure projection of images vs. pixel point selection for vertices is all good - will be important for reproducing images after the fact"
      ],
      "metadata": {
        "id": "CrTSSvt3Esq8"
      }
    },
    {
      "cell_type": "code",
      "source": [
        "btn = widgets.Button(description=\"SUBMIT AND CONTINUE\", button_style='danger',\n",
        "                     width='auto',\n",
        "                     height='50px',\n",
        "                     align_items='stretch',\n",
        "                     display='flex',\n",
        "                     flex_flow='column',\n",
        "                     style=dict(font_weight='bold', font_size='18pt'))\n",
        "\n",
        "box = widgets.HBox(children=[btn])\n",
        "box.color = 'red'\n",
        "display(box)"
      ],
      "metadata": {
        "id": "dGGGC7qhFk9T"
      },
      "execution_count": null,
      "outputs": []
    },
    {
      "cell_type": "code",
      "source": [
        "layout = widgets.Layout(width='auto', height='40px', align_items='center') #set width and height\n",
        "\n",
        "button = widgets.Button(\n",
        "    description='SUBMIT AND CONTINUE',\n",
        "    disabled=False,\n",
        "    display='flex',\n",
        "    flex_flow='column',\n",
        "    #align_items='center',\n",
        "    button_style='danger', # 'success', 'info', 'warning', 'danger' or ''\n",
        "    style=dict(font_weight='bold'),\n",
        "    layout = layout\n",
        ")\n",
        "display(button)"
      ],
      "metadata": {
        "id": "HvFGvqulH1nC"
      },
      "execution_count": null,
      "outputs": []
    }
  ]
}